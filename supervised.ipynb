{
 "cells": [
  {
   "cell_type": "code",
   "execution_count": 3,
   "metadata": {
    "pycharm": {
     "is_executing": true
    }
   },
   "outputs": [
    {
     "name": "stdout",
     "output_type": "stream",
     "text": [
      "Accuracy: 0.9992978514253616\n",
      "Precision: 0.8571428571428571\n",
      "Recall: 0.8\n",
      "F1-Score: 0.8275862068965518\n",
      "Matthews Correlation Coefficient: 0.8277291008943168\n"
     ]
    },
    {
     "data": {
      "image/png": "[encoded data removed]",
      "text/plain": [
       "<Figure size 864x864 with 2 Axes>"
      ]
     },
     "metadata": {
      "needs_background": "light"
     },
     "output_type": "display_data"
    },
    {
     "data": {
      "text/plain": [
       "'\\nAs seen in the confusion matrix, there are 7108 true positives, 2 false positives, 9 true negatives,\\nand 2 false negatives. \\n'"
      ]
     },
     "execution_count": 3,
     "metadata": {},
     "output_type": "execute_result"
    }
   ],
   "source": [
    "from sklearn.metrics import classification_report, accuracy_score,precision_score,recall_score,f1_score,matthews_corrcoef\n",
    "from Resampling import *\n",
    "from sklearn.ensemble import RandomForestClassifier\n",
    "from sklearn.metrics import confusion_matrix\n",
    "\n",
    "\"\"\"\n",
    "Supervised machine learning algorithms do not need to be separated from the class label,\n",
    "but instead will use the class label algorithm to train the dataset first. The data has already been split\n",
    "into training and testing sets in the resampling.py file\n",
    "\n",
    "The first supervised algorithm I will run is random forest.\n",
    "\n",
    "\"\"\"\n",
    "#Building a model\n",
    "\n",
    "\n",
    "# random forest model creation\n",
    "rfc = RandomForestClassifier()\n",
    "rfc.fit(X_train,y_train)\n",
    "# predictions\n",
    "y_pred = rfc.predict(X_test)\n",
    "\n",
    "n_outliers = len(fraud)\n",
    "n_errors = (y_pred != y_test).sum()\n",
    "acc= accuracy_score(y_test,y_pred)\n",
    "prec= precision_score(y_test,y_pred)\n",
    "rec= recall_score(y_test,y_pred)\n",
    "f1= f1_score(y_test,y_pred)\n",
    "MCC=matthews_corrcoef(y_test,y_pred)\n",
    "\n",
    "print(\"Accuracy: \" + str(acc))\n",
    "print(\"Precision: \" + str(prec))\n",
    "print(\"Recall: \" + str(rec))\n",
    "print(\"F1-Score: \" + str(f1))\n",
    "print(\"Matthews Correlation Coefficient: \" + str(MCC))\n",
    "\n",
    "\"\"\"\n",
    "As seen, the precision and recall are both around .81, which is much higher than the isolation forest \n",
    "model which was unsupervised.\n",
    "\n",
    "We can also create a confusion matrix to visualiaze the results, which is essentially a 4-part diagram which displays\n",
    "true positives, false positives, true negatives, and false negatives in its 4 columns. \n",
    "\"\"\"\n",
    "LABELS = ['Valid', 'Fraud']\n",
    "conf_matrix = confusion_matrix(y_test, y_pred)\n",
    "\n",
    "# Using the matplotlib pyplot library, the confusion matrix can be visually represented with a heatmap\n",
    "plt.figure(figsize=(12, 12))\n",
    "sns.heatmap(conf_matrix, xticklabels=LABELS, yticklabels=LABELS, annot=True, fmt=\"d\");\n",
    "plt.title(\"Confusion matrix\")\n",
    "plt.ylabel(\"True class\")\n",
    "plt.xlabel(\"Predicted class\")\n",
    "plt.show()\n",
    "\n",
    "\"\"\"\n",
    "As seen in the confusion matrix, there are 7108 true positives, 2 false positives, 9 true negatives,\n",
    "and 2 false negatives. \n",
    "\"\"\"\n"
   ]
  },
  {
   "cell_type": "code",
   "execution_count": null,
   "metadata": {
    "pycharm": {
     "is_executing": true
    }
   },
   "outputs": [],
   "source": [
    "\"\"\"\n",
    "The next supervised algorithm I will try to use is the multivariate Gaussian distribution algorithm. This is by far \n",
    "the most complicated out of all of the algorithms used so far. To pre process the data for this algorithm, the \"Time\" \n",
    "and \"Amount\" classes will also be dropped since this algorithm is very sensitive to distance metrics (if the ranges of \n",
    "the different features are misaligned, the accuracy of the algorithm will decrease). The dataframe 'data' used here\n",
    "has already dropped the time and amount features.\n",
    "\n",
    "The first step of the algorithm is to calculate the mean value of each feature. Since each feature is \n",
    "approximately normal, around 60% of the transactions will be within one standard deviation of the mean.\n",
    "\n",
    "The next step is to calculate the covariance matrix on the training set. Next, calculate the multivariate\n",
    "normal pdf on the training set. \n",
    "\n",
    "Calculate the same PDF on the validation set (~50% of fraudulent transactions and ~20% normal ones) and also\n",
    "the test set. Determine a threshold which separates outliers (fraudulent) from non-outliers (valid)\n",
    "\n",
    "Calculate outliers in the test set which are the sum of the PDF values that are smaller than the determined threshold\n",
    "\n",
    "\n",
    "\"\"\"\n",
    "\n",
    "\n",
    "df = pd.read_csv('creditcardfraud/creditcard.csv')\n",
    "\n",
    "# Pre-processing the data includes droppiing the 'Time' attribute because its distribution is not approximately Gaussian\n",
    "classes = df['Class']\n",
    "df.drop(['Time', 'Class'], axis=1, inplace=True)\n",
    "cols = df.columns.difference(['Class'])\n",
    "# The Min Max Scaler function scales every feature to a scale from 0 to 1 to help the accuracy of the model.\n",
    "MMscaller = MinMaxScaler()\n",
    "df = MMscaller.fit_transform(df)\n",
    "df = pd.DataFrame(data=df, columns=cols)\n",
    "df = pd.concat([df, classes], axis=1)\n",
    "\n",
    "# Split the original data into training, testing, and validation sets\n",
    "(Xtrain, Xtest, Xval, Ytest, Yval) = train_validation_splits(df)\n",
    "\n",
    "# Mu is an array with the mean of each feature in the training set and sigma is the covariance matrix of the training set\n",
    "(mu, sigma) = estimate_gaussian_params(Xtrain)\n",
    "\n",
    "# calculate gaussian pdf of each of the three sets\n",
    "p = multivariate_normal.pdf(Xtrain, mu, sigma)\n",
    "pval = multivariate_normal.pdf(Xval, mu, sigma)\n",
    "ptest = multivariate_normal.pdf(Xtest, mu, sigma)\n",
    "\n",
    "# Calculate a threshold value and F1 based on the validation set and the PDF of the validation set\n",
    "(epsilon, F1) = selectThreshold(Yval, pval)\n",
    "\n",
    "print(\"Best epsilon found:\", epsilon)\n",
    "print(\"Best F1 on cross validation set:\", F1)\n",
    "print(\"Outliers found:\", np.sum(p < epsilon))\n",
    "\n",
    "# Calculate an F1, recall, and precision value based on the testing set\n",
    "(test_precision, test_recall, test_F1) = metrics(Ytest, ptest < epsilon)\n",
    "print(\"Precision:\", test_precision)\n",
    "print(\"Recall:\", test_recall)\n",
    "print(\"F1 score:\", test_F1)\n"
   ]
  }
 ],
 "metadata": {
  "kernelspec": {
   "display_name": "Python 3",
   "language": "python",
   "name": "python3"
  },
  "language_info": {
   "codemirror_mode": {
    "name": "ipython",
    "version": 3
   },
   "file_extension": ".py",
   "mimetype": "text/x-python",
   "name": "python",
   "nbconvert_exporter": "python",
   "pygments_lexer": "ipython3",
   "version": "3.8.2"
  }
 },
 "nbformat": 4,
 "nbformat_minor": 1
}